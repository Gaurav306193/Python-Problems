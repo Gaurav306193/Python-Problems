{
 "cells": [
  {
   "cell_type": "code",
   "execution_count": 1,
   "id": "827cc19e",
   "metadata": {},
   "outputs": [
    {
     "name": "stdout",
     "output_type": "stream",
     "text": [
      "Gaurav Bhoi\n"
     ]
    }
   ],
   "source": [
    "# string is datatype that stores sequence of characters\n",
    "\n",
    "str = \"Gaurav Bhoi\"\n",
    "print(str)"
   ]
  },
  {
   "cell_type": "code",
   "execution_count": 2,
   "id": "41859532",
   "metadata": {},
   "outputs": [
    {
     "name": "stdout",
     "output_type": "stream",
     "text": [
      "Enter the string: Gaurav Bhoi Bha\n",
      "Gaurav Bhoi Bha\n"
     ]
    }
   ],
   "source": [
    "# take the user input string\n",
    "\n",
    "str = input(\"Enter the string: \")\n",
    "print(str)"
   ]
  },
  {
   "cell_type": "code",
   "execution_count": 3,
   "id": "65e2fddd",
   "metadata": {},
   "outputs": [
    {
     "name": "stdout",
     "output_type": "stream",
     "text": [
      "Enter the string: GauravBhoi\n",
      "Enter the string: Bhoi12344\n",
      "GauravBhoiBhoi12344\n"
     ]
    }
   ],
   "source": [
    "# string operations \n",
    "\n",
    "# 1. concatenation\n",
    "\n",
    "str1 = input(\"Enter the string: \")\n",
    "str2 = input(\"Enter the string: \")\n",
    "final_str = str1+str2\n",
    "print(final_str)"
   ]
  },
  {
   "cell_type": "code",
   "execution_count": 5,
   "id": "88f5304a",
   "metadata": {},
   "outputs": [
    {
     "name": "stdout",
     "output_type": "stream",
     "text": [
      "Enter the string: 1234manan\n",
      "9\n",
      "Enter the string :     \n",
      "5\n",
      "1234manan     \n",
      "14\n"
     ]
    }
   ],
   "source": [
    "# 2. Find the length of string\n",
    "# len(str) is function\n",
    "\n",
    "a = input(\"Enter the string: \")\n",
    "print(len(a))\n",
    "b = input(\"Enter the string :\")\n",
    "print(len(b))\n",
    "final_str=a+b\n",
    "print(final_str)\n",
    "print(len(final_str))"
   ]
  },
  {
   "cell_type": "code",
   "execution_count": 6,
   "id": "e66ad50f",
   "metadata": {},
   "outputs": [
    {
     "name": "stdout",
     "output_type": "stream",
     "text": [
      "G a\n"
     ]
    }
   ],
   "source": [
    "# Indexing : accessing the elements using their position\n",
    "# in python the indexing starts from 0\n",
    "\n",
    "str = \"Gaurav Bhoi\"\n",
    "print(str[0],str[1])"
   ]
  },
  {
   "cell_type": "code",
   "execution_count": 7,
   "id": "7e92d090",
   "metadata": {},
   "outputs": [
    {
     "name": "stdout",
     "output_type": "stream",
     "text": [
      "Gau\n"
     ]
    }
   ],
   "source": [
    "# Slicing : Accessing the parts of the string\n",
    "\n",
    "str = \"Gaurav Bhoi\"\n",
    "str = str[0:3]\n",
    "print(str)"
   ]
  },
  {
   "cell_type": "code",
   "execution_count": 11,
   "id": "b362aa6b",
   "metadata": {},
   "outputs": [
    {
     "name": "stdout",
     "output_type": "stream",
     "text": [
      "Enter the string : Gaurav Bhoi 678\n",
      "Gaurav\n",
      "Gaurav Bhoi 678\n"
     ]
    }
   ],
   "source": [
    "# str[:6] is same as str[0:6]\n",
    "# str[0: len(str)] is same as str[0:]\n",
    "\n",
    "str = input(\"Enter the string : \")\n",
    "print(str[:6])\n",
    "print(str[0:])"
   ]
  },
  {
   "cell_type": "code",
   "execution_count": null,
   "id": "979a9a1a",
   "metadata": {},
   "outputs": [],
   "source": []
  },
  {
   "cell_type": "code",
   "execution_count": null,
   "id": "313ce95c",
   "metadata": {},
   "outputs": [],
   "source": []
  }
 ],
 "metadata": {
  "kernelspec": {
   "display_name": "Python 3 (ipykernel)",
   "language": "python",
   "name": "python3"
  },
  "language_info": {
   "codemirror_mode": {
    "name": "ipython",
    "version": 3
   },
   "file_extension": ".py",
   "mimetype": "text/x-python",
   "name": "python",
   "nbconvert_exporter": "python",
   "pygments_lexer": "ipython3",
   "version": "3.11.4"
  }
 },
 "nbformat": 4,
 "nbformat_minor": 5
}
