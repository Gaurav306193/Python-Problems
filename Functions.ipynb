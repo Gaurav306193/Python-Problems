{
 "cells": [
  {
   "cell_type": "code",
   "execution_count": 3,
   "id": "cf160d18",
   "metadata": {},
   "outputs": [
    {
     "name": "stdout",
     "output_type": "stream",
     "text": [
      "6\n"
     ]
    }
   ],
   "source": [
    "# Functions is block of statements that perform a specific task\n",
    "\n",
    "def sum(a,b):\n",
    "    s = a+b\n",
    "    return s\n",
    "\n",
    "print(sum(2,4))"
   ]
  },
  {
   "cell_type": "code",
   "execution_count": 5,
   "id": "5c0b5e8d",
   "metadata": {},
   "outputs": [
    {
     "name": "stdout",
     "output_type": "stream",
     "text": [
      "7\n"
     ]
    }
   ],
   "source": [
    "def calc_sum(a,b):\n",
    "    return a+b\n",
    "\n",
    "sum = calc_sum(2,5)\n",
    "print(sum)"
   ]
  },
  {
   "cell_type": "code",
   "execution_count": 6,
   "id": "908a4352",
   "metadata": {},
   "outputs": [
    {
     "name": "stdout",
     "output_type": "stream",
     "text": [
      "82.0\n"
     ]
    },
    {
     "data": {
      "text/plain": [
       "82.0"
      ]
     },
     "execution_count": 6,
     "metadata": {},
     "output_type": "execute_result"
    }
   ],
   "source": [
    "# calculate the average of 3 number\n",
    "\n",
    "def calc_avg(a,b,c):\n",
    "    sum = a+b+c\n",
    "    avg = sum/3\n",
    "    print(avg)\n",
    "    return avg\n",
    "calc_avg(78,78,90)"
   ]
  },
  {
   "cell_type": "code",
   "execution_count": 8,
   "id": "2d92ae3e",
   "metadata": {},
   "outputs": [
    {
     "name": "stdout",
     "output_type": "stream",
     "text": [
      "24\n"
     ]
    },
    {
     "data": {
      "text/plain": [
       "24"
      ]
     },
     "execution_count": 8,
     "metadata": {},
     "output_type": "execute_result"
    }
   ],
   "source": [
    "# default parameter\n",
    "\n",
    "# assigning the default value to a parameter which is used when no arguement is passed\n",
    "\n",
    "def calc_product(a=4,b=6):\n",
    "    print(a*b)\n",
    "    return a*b\n",
    "\n",
    "calc_product()"
   ]
  },
  {
   "cell_type": "code",
   "execution_count": 10,
   "id": "39b1f17a",
   "metadata": {},
   "outputs": [
    {
     "name": "stdout",
     "output_type": "stream",
     "text": [
      "40\n"
     ]
    },
    {
     "data": {
      "text/plain": [
       "40"
      ]
     },
     "execution_count": 10,
     "metadata": {},
     "output_type": "execute_result"
    }
   ],
   "source": [
    "def calc_product(a,b=8):\n",
    "    print(a*b)\n",
    "    return a*b\n",
    "\n",
    "calc_product(5)"
   ]
  },
  {
   "cell_type": "code",
   "execution_count": 2,
   "id": "1b8c4720",
   "metadata": {},
   "outputs": [
    {
     "name": "stdout",
     "output_type": "stream",
     "text": [
      "70.0\n"
     ]
    },
    {
     "data": {
      "text/plain": [
       "70.0"
      ]
     },
     "execution_count": 2,
     "metadata": {},
     "output_type": "execute_result"
    }
   ],
   "source": [
    "def average(a,b,c):\n",
    "    sum=a+b+c\n",
    "    avg = sum/3\n",
    "    print(avg)\n",
    "    return avg\n",
    "\n",
    "average(67,87,56)"
   ]
  },
  {
   "cell_type": "code",
   "execution_count": 4,
   "id": "d4e9d557",
   "metadata": {},
   "outputs": [
    {
     "name": "stdout",
     "output_type": "stream",
     "text": [
      "['Pune', 'Mumbai', 'Ndb']\n",
      "3\n"
     ]
    }
   ],
   "source": [
    "# print the length of the list\n",
    "\n",
    "cities = [\"Pune\",\"Mumbai\",\"Ndb\"]\n",
    "\n",
    "def print_len(list):\n",
    "    print(cities)\n",
    "    print(len(list))\n",
    "    \n",
    "print_len(cities)"
   ]
  },
  {
   "cell_type": "code",
   "execution_count": 6,
   "id": "8bc62817",
   "metadata": {},
   "outputs": [
    {
     "name": "stdout",
     "output_type": "stream",
     "text": [
      "Pune Mumbai Ndb "
     ]
    }
   ],
   "source": [
    "# print the elements of a list in a single line\n",
    "\n",
    "cities = [\"Pune\",\"Mumbai\",\"Ndb\"]\n",
    "\n",
    "def print_list(list):\n",
    "    for item in list:\n",
    "        print(item, end=\" \")\n",
    "        \n",
    "print_list(cities)"
   ]
  },
  {
   "cell_type": "code",
   "execution_count": 11,
   "id": "729ebd53",
   "metadata": {},
   "outputs": [
    {
     "name": "stdout",
     "output_type": "stream",
     "text": [
      "544344939077443064003729240247842752644293064388798874532860126869671081148416000000000000000\n"
     ]
    }
   ],
   "source": [
    "# Program : print the factorial of n\n",
    "\n",
    "def calc_fact(n):\n",
    "    fact=1\n",
    "    for i in range(1,n+1):\n",
    "        fact*=i\n",
    "    print(fact)\n",
    "\n",
    "calc_fact(66)"
   ]
  },
  {
   "cell_type": "code",
   "execution_count": 12,
   "id": "b9584913",
   "metadata": {},
   "outputs": [
    {
     "name": "stdout",
     "output_type": "stream",
     "text": [
      "1 USD =  83 INR\n"
     ]
    }
   ],
   "source": [
    "# USD to INR Converter\n",
    "\n",
    "def converter(usd):\n",
    "    inr = usd*83\n",
    "    print(usd,\"USD = \",inr,\"INR\")\n",
    "\n",
    "converter(1)"
   ]
  },
  {
   "cell_type": "code",
   "execution_count": null,
   "id": "f69e958f",
   "metadata": {},
   "outputs": [],
   "source": []
  }
 ],
 "metadata": {
  "kernelspec": {
   "display_name": "Python 3 (ipykernel)",
   "language": "python",
   "name": "python3"
  },
  "language_info": {
   "codemirror_mode": {
    "name": "ipython",
    "version": 3
   },
   "file_extension": ".py",
   "mimetype": "text/x-python",
   "name": "python",
   "nbconvert_exporter": "python",
   "pygments_lexer": "ipython3",
   "version": "3.11.4"
  }
 },
 "nbformat": 4,
 "nbformat_minor": 5
}
