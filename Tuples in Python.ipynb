{
 "cells": [
  {
   "cell_type": "code",
   "execution_count": 1,
   "id": "98f4cee6",
   "metadata": {},
   "outputs": [
    {
     "name": "stdout",
     "output_type": "stream",
     "text": [
      "(1,)\n",
      "<class 'tuple'>\n"
     ]
    }
   ],
   "source": [
    "# Tuple is user built in data type which stores similar type of data\n",
    "# tuple is immutable\n",
    "\n",
    "tup = (1,)\n",
    "print(tup)\n",
    "print(type(tup))"
   ]
  },
  {
   "cell_type": "code",
   "execution_count": 2,
   "id": "1ff8f85c",
   "metadata": {},
   "outputs": [
    {
     "name": "stdout",
     "output_type": "stream",
     "text": [
      "(1, 2, 3, 4, 5, 6)\n",
      "6\n"
     ]
    }
   ],
   "source": [
    "# find the length\n",
    "tup = (1,2,3,4,5,6)\n",
    "print(tup)\n",
    "print(len(tup))"
   ]
  },
  {
   "cell_type": "code",
   "execution_count": 4,
   "id": "21d2252b",
   "metadata": {},
   "outputs": [
    {
     "name": "stdout",
     "output_type": "stream",
     "text": [
      "2\n",
      "1\n"
     ]
    }
   ],
   "source": [
    "# indexing \n",
    "\n",
    "tup=(2,1,3,1)\n",
    "print(tup[0])\n",
    "print(tup[3])"
   ]
  },
  {
   "cell_type": "code",
   "execution_count": 7,
   "id": "241eb5c8",
   "metadata": {},
   "outputs": [
    {
     "name": "stdout",
     "output_type": "stream",
     "text": [
      "2\n",
      "1\n",
      "3\n"
     ]
    }
   ],
   "source": [
    "# Tuple Methods\n",
    "# 1. tup.index(): returns index of first occurrence\n",
    "\n",
    "tup = (1,2,3,4,5,6)\n",
    "print(tup.index(3))\n",
    "print(tup.index(2))\n",
    "print(tup.index(4))"
   ]
  },
  {
   "cell_type": "code",
   "execution_count": 8,
   "id": "9b845d2c",
   "metadata": {},
   "outputs": [
    {
     "name": "stdout",
     "output_type": "stream",
     "text": [
      "2\n"
     ]
    }
   ],
   "source": [
    "# 2. tup.count(element) : count total occurrences\n",
    "\n",
    "tup = (\"mera\",\"nam\",\"bhi\",\"leja\",\"mera\",\"kam\",\"bhi\",\"leja\")\n",
    "print(tup.count(\"mera\"))"
   ]
  },
  {
   "cell_type": "code",
   "execution_count": 9,
   "id": "865013c8",
   "metadata": {},
   "outputs": [
    {
     "name": "stdout",
     "output_type": "stream",
     "text": [
      "('mera', 'nam', 'bhi', 'leja', 'mera', 'kam', 'bhi', 'leja')\n"
     ]
    }
   ],
   "source": [
    "tup = (\"mera\",\"nam\",\"bhi\",\"leja\",\"mera\",\"kam\",\"bhi\",\"leja\")\n",
    "print(tup)"
   ]
  },
  {
   "cell_type": "code",
   "execution_count": null,
   "id": "f0464e05",
   "metadata": {},
   "outputs": [],
   "source": []
  }
 ],
 "metadata": {
  "kernelspec": {
   "display_name": "Python 3 (ipykernel)",
   "language": "python",
   "name": "python3"
  },
  "language_info": {
   "codemirror_mode": {
    "name": "ipython",
    "version": 3
   },
   "file_extension": ".py",
   "mimetype": "text/x-python",
   "name": "python",
   "nbconvert_exporter": "python",
   "pygments_lexer": "ipython3",
   "version": "3.11.4"
  }
 },
 "nbformat": 4,
 "nbformat_minor": 5
}
