{
 "cells": [
  {
   "cell_type": "code",
   "execution_count": 1,
   "id": "b5b5c1b9",
   "metadata": {},
   "outputs": [
    {
     "name": "stdout",
     "output_type": "stream",
     "text": [
      "5\n",
      "4\n",
      "3\n",
      "2\n",
      "1\n"
     ]
    }
   ],
   "source": [
    "# Recursion is when a function calls itself repeatedly\n",
    "\n",
    "# print n to 1 backwards\n",
    "\n",
    "def show(n):\n",
    "    if(n==0): #base class condition\n",
    "        return\n",
    "    print(n)\n",
    "    show(n-1) #function call\n",
    "\n",
    "show(5)"
   ]
  },
  {
   "cell_type": "code",
   "execution_count": 2,
   "id": "80fa2f44",
   "metadata": {},
   "outputs": [
    {
     "data": {
      "text/plain": [
       "120"
      ]
     },
     "execution_count": 2,
     "metadata": {},
     "output_type": "execute_result"
    }
   ],
   "source": [
    "# Factorial\n",
    "\n",
    "def fact(n):\n",
    "    if(n==0 or n==1 ):\n",
    "        return 1\n",
    "    else:\n",
    "        return n*fact(n-1) #function call\n",
    "\n",
    "fact(5)"
   ]
  },
  {
   "cell_type": "code",
   "execution_count": 3,
   "id": "de8ad0ee",
   "metadata": {},
   "outputs": [
    {
     "name": "stdout",
     "output_type": "stream",
     "text": [
      "15\n"
     ]
    }
   ],
   "source": [
    "# to calculate sum of n natural numbers\n",
    "\n",
    "def calc_sum(n):\n",
    "    if(n==0):\n",
    "        return 0\n",
    "    return calc_sum(n-1)+n\n",
    "\n",
    "sum = calc_sum(5)\n",
    "print(sum)"
   ]
  },
  {
   "cell_type": "code",
   "execution_count": 4,
   "id": "f7e1b3b2",
   "metadata": {},
   "outputs": [
    {
     "name": "stdout",
     "output_type": "stream",
     "text": [
      "mango\n",
      "banana\n",
      "orange\n"
     ]
    }
   ],
   "source": [
    "# to print elements in the list\n",
    "\n",
    "def print_list(list, index=0):\n",
    "    if(index==len(list)):\n",
    "        return\n",
    "    print(list[index])\n",
    "    print_list(list,index+1)\n",
    "    \n",
    "fruits = [\"mango\",\"banana\",\"orange\"]\n",
    "print_list(fruits)"
   ]
  },
  {
   "cell_type": "code",
   "execution_count": null,
   "id": "d5d70df9",
   "metadata": {},
   "outputs": [],
   "source": []
  }
 ],
 "metadata": {
  "kernelspec": {
   "display_name": "Python 3 (ipykernel)",
   "language": "python",
   "name": "python3"
  },
  "language_info": {
   "codemirror_mode": {
    "name": "ipython",
    "version": 3
   },
   "file_extension": ".py",
   "mimetype": "text/x-python",
   "name": "python",
   "nbconvert_exporter": "python",
   "pygments_lexer": "ipython3",
   "version": "3.11.4"
  }
 },
 "nbformat": 4,
 "nbformat_minor": 5
}
