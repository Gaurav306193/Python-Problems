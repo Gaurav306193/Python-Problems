{
 "cells": [
  {
   "cell_type": "code",
   "execution_count": 1,
   "id": "48f0ed43",
   "metadata": {},
   "outputs": [
    {
     "name": "stdout",
     "output_type": "stream",
     "text": [
      "True\n"
     ]
    }
   ],
   "source": [
    "#1. str.endswith()\n",
    "\n",
    "# returns true if string ends with substring\n",
    "\n",
    "\n",
    "str = \"coder\"\n",
    "print(str.endswith(\"er\"))"
   ]
  },
  {
   "cell_type": "code",
   "execution_count": 3,
   "id": "70326cd2",
   "metadata": {},
   "outputs": [
    {
     "name": "stdout",
     "output_type": "stream",
     "text": [
      "Enter the string: i am border\n",
      "True\n"
     ]
    }
   ],
   "source": [
    "str = input(\"Enter the string: \")\n",
    "print(str.endswith(\"er\"))"
   ]
  },
  {
   "cell_type": "code",
   "execution_count": 4,
   "id": "f1a432f7",
   "metadata": {},
   "outputs": [
    {
     "name": "stdout",
     "output_type": "stream",
     "text": [
      "I am gaurav\n"
     ]
    }
   ],
   "source": [
    "#2. str.capitalize()\n",
    "\n",
    "# capitalizes first char of string\n",
    "\n",
    "str = \"i am Gaurav\"\n",
    "print(str.capitalize())"
   ]
  },
  {
   "cell_type": "code",
   "execution_count": 5,
   "id": "330ad497",
   "metadata": {},
   "outputs": [
    {
     "name": "stdout",
     "output_type": "stream",
     "text": [
      "I am Gaurav Dhanrale\n"
     ]
    }
   ],
   "source": [
    "# 3. str.replace(old,new)\n",
    "\n",
    "str = \"I am Gaurav Bhoi\"\n",
    "print(str.replace(\"Bhoi\",\"Dhanrale\"))"
   ]
  },
  {
   "cell_type": "code",
   "execution_count": 9,
   "id": "6f9127a4",
   "metadata": {},
   "outputs": [
    {
     "name": "stdout",
     "output_type": "stream",
     "text": [
      "34\n"
     ]
    }
   ],
   "source": [
    "# 4. str.find()\n",
    "\n",
    "# returns first index of first occurrence\n",
    "\n",
    "str =\"ata ata tar khalla ahe ata ata tr kela ahe\"\n",
    "print(str.find(\"kela\"))"
   ]
  },
  {
   "cell_type": "code",
   "execution_count": 10,
   "id": "f0ffaad6",
   "metadata": {},
   "outputs": [
    {
     "name": "stdout",
     "output_type": "stream",
     "text": [
      "2\n"
     ]
    }
   ],
   "source": [
    "# 5. str.count():\n",
    "\n",
    "# counts the occurrence of substring\n",
    "\n",
    "str =\"ata ata tar khalla ahe ata ata tr kela ahe\"\n",
    "print(str.count(\"ahe\"))"
   ]
  },
  {
   "cell_type": "code",
   "execution_count": 11,
   "id": "25d270c4",
   "metadata": {},
   "outputs": [
    {
     "name": "stdout",
     "output_type": "stream",
     "text": [
      "varuaG\n"
     ]
    }
   ],
   "source": [
    "# 6. Reversing the string\n",
    "\n",
    "str =\"Gaurav\"\n",
    "print(str[::-1])"
   ]
  },
  {
   "cell_type": "code",
   "execution_count": null,
   "id": "4500ba58",
   "metadata": {},
   "outputs": [],
   "source": []
  }
 ],
 "metadata": {
  "kernelspec": {
   "display_name": "Python 3 (ipykernel)",
   "language": "python",
   "name": "python3"
  },
  "language_info": {
   "codemirror_mode": {
    "name": "ipython",
    "version": 3
   },
   "file_extension": ".py",
   "mimetype": "text/x-python",
   "name": "python",
   "nbconvert_exporter": "python",
   "pygments_lexer": "ipython3",
   "version": "3.11.4"
  }
 },
 "nbformat": 4,
 "nbformat_minor": 5
}
