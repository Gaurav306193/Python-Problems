{
 "cells": [
  {
   "cell_type": "code",
   "execution_count": 7,
   "id": "8b84def7",
   "metadata": {},
   "outputs": [
    {
     "name": "stdout",
     "output_type": "stream",
     "text": [
      "<class 'int'>\n",
      "<class 'NoneType'>\n",
      "<class 'str'>\n",
      "<class 'bool'>\n",
      "<class 'bool'>\n",
      "<class 'float'>\n"
     ]
    }
   ],
   "source": [
    "# datatypes are the types of data whicb we used in python \n",
    "# there are 5 primary datatypes : integer, string , float , boolean and None\n",
    "# python is implicit typed means it is not necessary to specify the datatype of the variable in python\n",
    "\n",
    "\n",
    "a = 4\n",
    "b = 6.7 \n",
    "c = \"Gaurav Bhoi\"\n",
    "d = True\n",
    "e = False\n",
    "f = None\n",
    "\n",
    "print(type(a))\n",
    "print(type(f))\n",
    "print(type(c))\n",
    "print(type(d))\n",
    "print(type(e))\n",
    "print(type(b))"
   ]
  },
  {
   "cell_type": "code",
   "execution_count": 10,
   "id": "9315bfb1",
   "metadata": {},
   "outputs": [
    {
     "name": "stdout",
     "output_type": "stream",
     "text": [
      "34.0\n"
     ]
    }
   ],
   "source": [
    "# Conversion of datatypes / typecasting\n",
    "\n",
    "var1 = 34\n",
    "print(float(var1))"
   ]
  },
  {
   "cell_type": "code",
   "execution_count": 13,
   "id": "fb43be70",
   "metadata": {},
   "outputs": [
    {
     "name": "stdout",
     "output_type": "stream",
     "text": [
      "<class 'int'>\n",
      "45.0\n",
      "<class 'float'>\n"
     ]
    }
   ],
   "source": [
    "# typecasting using variables \n",
    "\n",
    "a = 45\n",
    "print(type(a))\n",
    "b = float(a)\n",
    "print(b)\n",
    "print(type(b))"
   ]
  },
  {
   "cell_type": "code",
   "execution_count": 14,
   "id": "90b54e37",
   "metadata": {},
   "outputs": [
    {
     "name": "stdout",
     "output_type": "stream",
     "text": [
      "<class 'str'>\n",
      "68.0\n"
     ]
    }
   ],
   "source": [
    "# str to float is possible\n",
    "# str to int is also possible but the string have to contain only digits\n",
    "\n",
    "var1=\"34\"\n",
    "print(type(var1))\n",
    "var2 = 34\n",
    "print(float(var1)+float(var2))"
   ]
  },
  {
   "cell_type": "code",
   "execution_count": 17,
   "id": "5c5a29a0",
   "metadata": {},
   "outputs": [
    {
     "name": "stdout",
     "output_type": "stream",
     "text": [
      "56.7856.78\n"
     ]
    }
   ],
   "source": [
    "# float to str is possible with + not with *\n",
    "var3 = 56.78\n",
    "var4 = 56.78\n",
    "print(str(var3)+str(var4))"
   ]
  },
  {
   "cell_type": "code",
   "execution_count": 20,
   "id": "e7e7018b",
   "metadata": {},
   "outputs": [
    {
     "name": "stdout",
     "output_type": "stream",
     "text": [
      "3434\n"
     ]
    }
   ],
   "source": [
    "# int to str is possible with + not with *\n",
    "\n",
    "hu = 34\n",
    "hu2 = 34\n",
    "print(str(hu)+str(hu2))"
   ]
  },
  {
   "cell_type": "code",
   "execution_count": 23,
   "id": "4c884ab8",
   "metadata": {},
   "outputs": [
    {
     "name": "stdout",
     "output_type": "stream",
     "text": [
      "GauravPrashik\n"
     ]
    }
   ],
   "source": [
    "# we can concatenate \n",
    "v=\"Gaurav\"\n",
    "h=\"Prashik\"\n",
    "print(v+h)"
   ]
  },
  {
   "cell_type": "code",
   "execution_count": 24,
   "id": "47938176",
   "metadata": {},
   "outputs": [
    {
     "name": "stdout",
     "output_type": "stream",
     "text": [
      "780.89\n"
     ]
    }
   ],
   "source": [
    "b=78\n",
    "c=0.89\n",
    "print(str(b)+str(c))"
   ]
  },
  {
   "cell_type": "code",
   "execution_count": null,
   "id": "d87f0047",
   "metadata": {},
   "outputs": [],
   "source": []
  }
 ],
 "metadata": {
  "kernelspec": {
   "display_name": "Python 3 (ipykernel)",
   "language": "python",
   "name": "python3"
  },
  "language_info": {
   "codemirror_mode": {
    "name": "ipython",
    "version": 3
   },
   "file_extension": ".py",
   "mimetype": "text/x-python",
   "name": "python",
   "nbconvert_exporter": "python",
   "pygments_lexer": "ipython3",
   "version": "3.11.4"
  }
 },
 "nbformat": 4,
 "nbformat_minor": 5
}
