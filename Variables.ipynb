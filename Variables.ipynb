{
 "cells": [
  {
   "cell_type": "code",
   "execution_count": 5,
   "id": "b27391d7",
   "metadata": {},
   "outputs": [
    {
     "name": "stdout",
     "output_type": "stream",
     "text": [
      "Gaurav\n",
      "21\n",
      "35.89\n"
     ]
    }
   ],
   "source": [
    "# Varaibale is a name given to a memory location in program\n",
    "\n",
    "#variable declaration\n",
    "name = \"Gaurav\"\n",
    "age = 21\n",
    "price = 35.89\n",
    "\n",
    "#print the variables\n",
    "print(name)\n",
    "print(age)\n",
    "print(price)"
   ]
  },
  {
   "cell_type": "code",
   "execution_count": 7,
   "id": "823b5fad",
   "metadata": {},
   "outputs": [
    {
     "name": "stdout",
     "output_type": "stream",
     "text": [
      "My name is:  Gaurav\n",
      "My age is:  21\n",
      "The price of chocolate is:  35.89\n"
     ]
    }
   ],
   "source": [
    "# we can also use variables with words and sentences \n",
    "\n",
    "print(\"My name is: \",name)\n",
    "print(\"My age is: \",age)\n",
    "print(\"The price of chocolate is: \",price)"
   ]
  },
  {
   "cell_type": "code",
   "execution_count": 10,
   "id": "c38a9d30",
   "metadata": {},
   "outputs": [
    {
     "name": "stdout",
     "output_type": "stream",
     "text": [
      "33\n",
      "34\n",
      "33\n",
      "34\n"
     ]
    }
   ],
   "source": [
    "# we can assign the variable into the variable also \n",
    "\n",
    "a= 34\n",
    "a1= a\n",
    "print(a1)\n",
    "print(a)"
   ]
  },
  {
   "cell_type": "code",
   "execution_count": 13,
   "id": "d8b3d305",
   "metadata": {},
   "outputs": [
    {
     "name": "stdout",
     "output_type": "stream",
     "text": [
      "<class 'int'>\n",
      "<class 'str'>\n",
      "<class 'float'>\n"
     ]
    }
   ],
   "source": [
    "# we can print the type of variable\n",
    "\n",
    "print(type(age))\n",
    "print(type(name))\n",
    "print(type(price))"
   ]
  },
  {
   "cell_type": "code",
   "execution_count": 18,
   "id": "dd0c554f",
   "metadata": {},
   "outputs": [
    {
     "name": "stdout",
     "output_type": "stream",
     "text": [
      "The sum is 8\n",
      "The subtraction is : -2\n",
      "15\n",
      "0.6\n"
     ]
    }
   ],
   "source": [
    "# we can perform mathematical operations \n",
    "\n",
    "a= 3\n",
    "b= 5\n",
    "sum = a+b\n",
    "print(\"The sum is\",sum)\n",
    "\n",
    "#alternative approach\n",
    "print(\"The subtraction is :\",a-b)\n",
    "print(a*b)\n",
    "print(a/b)"
   ]
  },
  {
   "cell_type": "code",
   "execution_count": null,
   "id": "caa8e61b",
   "metadata": {},
   "outputs": [],
   "source": []
  }
 ],
 "metadata": {
  "kernelspec": {
   "display_name": "Python 3 (ipykernel)",
   "language": "python",
   "name": "python3"
  },
  "language_info": {
   "codemirror_mode": {
    "name": "ipython",
    "version": 3
   },
   "file_extension": ".py",
   "mimetype": "text/x-python",
   "name": "python",
   "nbconvert_exporter": "python",
   "pygments_lexer": "ipython3",
   "version": "3.11.4"
  }
 },
 "nbformat": 4,
 "nbformat_minor": 5
}
