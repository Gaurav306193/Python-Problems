{
 "cells": [
  {
   "cell_type": "code",
   "execution_count": 2,
   "id": "4361b3d7",
   "metadata": {},
   "outputs": [
    {
     "name": "stdout",
     "output_type": "stream",
     "text": [
      "14\n"
     ]
    }
   ],
   "source": [
    "# Numeric values can operate with all arithmetic operations\n",
    "\n",
    "a,b = 2,3\n",
    "c = 4\n",
    "\n",
    "print(a+b*c)"
   ]
  },
  {
   "cell_type": "code",
   "execution_count": 3,
   "id": "43844f3b",
   "metadata": {},
   "outputs": [
    {
     "name": "stdout",
     "output_type": "stream",
     "text": [
      "22.4\n"
     ]
    }
   ],
   "source": [
    "# Arithetic expression with integer and float will result in float\n",
    "\n",
    "a,b = 4, 5.6\n",
    "c= a*b\n",
    "print(c)"
   ]
  },
  {
   "cell_type": "code",
   "execution_count": 4,
   "id": "d866e47e",
   "metadata": {},
   "outputs": [
    {
     "name": "stdout",
     "output_type": "stream",
     "text": [
      "@@@@@@\n"
     ]
    }
   ],
   "source": [
    "# string and numeric values can operate together with * ( repetition)\n",
    "\n",
    "a,b= 2,3\n",
    "txt=\"@\"\n",
    "print(a*txt*b)"
   ]
  },
  {
   "cell_type": "code",
   "execution_count": 6,
   "id": "71641932",
   "metadata": {},
   "outputs": [
    {
     "name": "stdout",
     "output_type": "stream",
     "text": [
      "2a2a2a\n"
     ]
    }
   ],
   "source": [
    "# string and string can be operate using conactenation (+)\n",
    "\n",
    "a,b = \"2\",3\n",
    "txt = \"a\"\n",
    "print((a+txt)*b)"
   ]
  },
  {
   "cell_type": "code",
   "execution_count": 7,
   "id": "8e6c4b0c",
   "metadata": {},
   "outputs": [
    {
     "name": "stdout",
     "output_type": "stream",
     "text": [
      "2.0\n"
     ]
    }
   ],
   "source": [
    "# Result of dicision operator with two integers are float\n",
    "\n",
    "a,b=4,2\n",
    "c = a/b\n",
    "print(c)"
   ]
  },
  {
   "cell_type": "code",
   "execution_count": 10,
   "id": "55ae96a5",
   "metadata": {},
   "outputs": [
    {
     "name": "stdout",
     "output_type": "stream",
     "text": [
      "2\n",
      "-2\n"
     ]
    }
   ],
   "source": [
    "# integer division or floor division gives closest integer which is lesser than or equal to float value \n",
    "\n",
    "# result of a//b is same as floor(a/b)\n",
    "\n",
    "a,b=12,5\n",
    "c=a//b\n",
    "print(c)\n",
    "\n",
    "d,e = -12,6\n",
    "f = d//e\n",
    "print(f)"
   ]
  },
  {
   "cell_type": "code",
   "execution_count": 14,
   "id": "8bee3ae4",
   "metadata": {},
   "outputs": [
    {
     "name": "stdout",
     "output_type": "stream",
     "text": [
      "1\n",
      "1\n",
      "-5\n"
     ]
    }
   ],
   "source": [
    "# Remainder is negative when denominator is negative\n",
    "\n",
    "a,b= -5,2\n",
    "print(a%b)\n",
    "\n",
    "c,d = 5,2 \n",
    "print(c%d)\n",
    "\n",
    "e,f = 9,-7\n",
    "print(e%f)"
   ]
  },
  {
   "cell_type": "code",
   "execution_count": null,
   "id": "32c00022",
   "metadata": {},
   "outputs": [],
   "source": []
  }
 ],
 "metadata": {
  "kernelspec": {
   "display_name": "Python 3 (ipykernel)",
   "language": "python",
   "name": "python3"
  },
  "language_info": {
   "codemirror_mode": {
    "name": "ipython",
    "version": 3
   },
   "file_extension": ".py",
   "mimetype": "text/x-python",
   "name": "python",
   "nbconvert_exporter": "python",
   "pygments_lexer": "ipython3",
   "version": "3.11.4"
  }
 },
 "nbformat": 4,
 "nbformat_minor": 5
}
