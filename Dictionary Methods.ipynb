{
 "cells": [
  {
   "cell_type": "code",
   "execution_count": 1,
   "id": "aa467213",
   "metadata": {},
   "outputs": [
    {
     "name": "stdout",
     "output_type": "stream",
     "text": [
      "dict_keys(['name', 'age', 'marks', 'scores', 'subjects'])\n"
     ]
    }
   ],
   "source": [
    "# 1. dict.keys()\n",
    "\n",
    "# returns all keys \n",
    "\n",
    "dict = {\n",
    "    \"name\": \"Gaurav\",\n",
    "    \"age\": 21,\n",
    "    \"marks\": 45.67,\n",
    "    \"scores\": [56,78,45],\n",
    "    \"subjects\": (\"physics\",\"chemistry\",\"math\")\n",
    "}\n",
    "print(dict.keys())"
   ]
  },
  {
   "cell_type": "code",
   "execution_count": 2,
   "id": "24649063",
   "metadata": {},
   "outputs": [
    {
     "name": "stdout",
     "output_type": "stream",
     "text": [
      "dict_values(['Gaurav', 21, 45.67, [56, 78, 45], ('physics', 'chemistry', 'math')])\n"
     ]
    }
   ],
   "source": [
    "# 2. dict.values()\n",
    "\n",
    "# return all values\n",
    "\n",
    "dict = {\n",
    "    \"name\": \"Gaurav\",\n",
    "    \"age\": 21,\n",
    "    \"marks\": 45.67,\n",
    "    \"scores\": [56,78,45],\n",
    "    \"subjects\": (\"physics\",\"chemistry\",\"math\")\n",
    "}\n",
    "\n",
    "print(dict.values())"
   ]
  },
  {
   "cell_type": "code",
   "execution_count": 3,
   "id": "ccf3211f",
   "metadata": {},
   "outputs": [
    {
     "name": "stdout",
     "output_type": "stream",
     "text": [
      "dict_items([('name', 'Gaurav'), ('age', 21), ('marks', 45.67), ('scores', [56, 78, 45]), ('subjects', ('physics', 'chemistry', 'math'))])\n"
     ]
    }
   ],
   "source": [
    "# 3. dict.items()\n",
    "\n",
    "# returns all (key,val) pairs as tuples\n",
    "\n",
    "dict = {\n",
    "    \"name\": \"Gaurav\",\n",
    "    \"age\": 21,\n",
    "    \"marks\": 45.67,\n",
    "    \"scores\": [56,78,45],\n",
    "    \"subjects\": (\"physics\",\"chemistry\",\"math\")\n",
    "}\n",
    "\n",
    "print(dict.items())"
   ]
  },
  {
   "cell_type": "code",
   "execution_count": 5,
   "id": "1b819896",
   "metadata": {},
   "outputs": [
    {
     "name": "stdout",
     "output_type": "stream",
     "text": [
      "45.67\n",
      "None\n"
     ]
    }
   ],
   "source": [
    "# 4. dict.get(\"key\")\n",
    "\n",
    "# returns the key according to values\n",
    "# if key is not present then it will return None\n",
    "\n",
    "dict = {\n",
    "    \"name\": \"Gaurav\",\n",
    "    \"age\": 21,\n",
    "    \"marks\": 45.67,\n",
    "    \"scores\": [56,78,45],\n",
    "    \"subjects\": (\"physics\",\"chemistry\",\"math\")\n",
    "}\n",
    "print(dict.get(\"marks\"))\n",
    "print(dict.get(\"mul\"))"
   ]
  },
  {
   "cell_type": "code",
   "execution_count": 7,
   "id": "497a19d1",
   "metadata": {},
   "outputs": [
    {
     "name": "stdout",
     "output_type": "stream",
     "text": [
      "{'name': 'Gaurav', 'city': 'Pune'}\n"
     ]
    }
   ],
   "source": [
    "# 5. dict.update(new_dict)\n",
    "\n",
    "# inserts the specified items to the dictionary\n",
    "\n",
    "student ={\n",
    "    \"name\": \"Gaurav\"\n",
    "}\n",
    "\n",
    "new_dict={\"city\":\"Pune\"}\n",
    "student.update(new_dict)\n",
    "print(student)"
   ]
  },
  {
   "cell_type": "code",
   "execution_count": null,
   "id": "d1cc7aa6",
   "metadata": {},
   "outputs": [],
   "source": []
  }
 ],
 "metadata": {
  "kernelspec": {
   "display_name": "Python 3 (ipykernel)",
   "language": "python",
   "name": "python3"
  },
  "language_info": {
   "codemirror_mode": {
    "name": "ipython",
    "version": 3
   },
   "file_extension": ".py",
   "mimetype": "text/x-python",
   "name": "python",
   "nbconvert_exporter": "python",
   "pygments_lexer": "ipython3",
   "version": "3.11.4"
  }
 },
 "nbformat": 4,
 "nbformat_minor": 5
}
