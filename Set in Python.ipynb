{
 "cells": [
  {
   "cell_type": "code",
   "execution_count": 2,
   "id": "5733c6ec",
   "metadata": {},
   "outputs": [
    {
     "name": "stdout",
     "output_type": "stream",
     "text": [
      "set()\n",
      "<class 'set'>\n"
     ]
    }
   ],
   "source": [
    "# Set : set is the collection of unordered items\n",
    "\n",
    "# elements are immutable but set is mutable\n",
    "# it contains the unique elements\n",
    "\n",
    "# empty set\n",
    "null_set=set()\n",
    "print(null_set)\n",
    "print(type(null_set))"
   ]
  },
  {
   "cell_type": "code",
   "execution_count": 8,
   "id": "460479e3",
   "metadata": {},
   "outputs": [
    {
     "name": "stdout",
     "output_type": "stream",
     "text": [
      "{1, 2, 3, 4, 5, 6, 7, 8}\n",
      "8\n"
     ]
    }
   ],
   "source": [
    "# we cannot add the list and dictionary in the set\n",
    "# we can add the tuple and string in the set\n",
    "\n",
    "collection = {1,2,3,4,5,6,7,7,8,7,5,2,2,5}\n",
    "print(collection)\n",
    "print(len(collection))"
   ]
  },
  {
   "cell_type": "code",
   "execution_count": 9,
   "id": "96f2a3ac",
   "metadata": {},
   "outputs": [
    {
     "name": "stdout",
     "output_type": "stream",
     "text": [
      "{'tara', 5, 'jo', 7, 6.78, 'tute', 56}\n",
      "7\n"
     ]
    }
   ],
   "source": [
    "fnt = {\"tute\",\"jo\",\"tara\",5,6.78,56,7,5}\n",
    "print(fnt)\n",
    "print(len(fnt))"
   ]
  },
  {
   "cell_type": "code",
   "execution_count": 11,
   "id": "a59c2986",
   "metadata": {},
   "outputs": [
    {
     "name": "stdout",
     "output_type": "stream",
     "text": [
      "{1, 2, 5, 6.78, 7, 'tute', 'jo', 'tara', 56}\n"
     ]
    }
   ],
   "source": [
    "# Set Methods \n",
    "\n",
    "# set.add(ele)\n",
    "# adds an element\n",
    "\n",
    "collection = {\"tute\",\"jo\",\"tara\",5,6.78,56,7,5}\n",
    "collection.add(2)\n",
    "collection.add(1)\n",
    "print(collection)"
   ]
  },
  {
   "cell_type": "code",
   "execution_count": 12,
   "id": "d57db76c",
   "metadata": {},
   "outputs": [
    {
     "name": "stdout",
     "output_type": "stream",
     "text": [
      "{1, 2, 5, 6.78, 7, 'tute', 'jo', 'tara', 56}\n",
      "{1, 2, 5, 6.78, 7, 'tute', 'tara', 56}\n"
     ]
    }
   ],
   "source": [
    "# 2. set.remove(el)\n",
    "\n",
    "# removes an element\n",
    "\n",
    "collection = {\"tute\",\"jo\",\"tara\",5,6.78,56,7,5}\n",
    "collection.add(2)\n",
    "collection.add(1)\n",
    "print(collection)\n",
    "collection.remove(\"jo\")\n",
    "print(collection)"
   ]
  },
  {
   "cell_type": "code",
   "execution_count": 13,
   "id": "10ea8db0",
   "metadata": {},
   "outputs": [
    {
     "name": "stdout",
     "output_type": "stream",
     "text": [
      "set()\n"
     ]
    }
   ],
   "source": [
    "# 3. set.clear\n",
    "\n",
    "# clear the set\n",
    "\n",
    "collection = {\"tute\",\"jo\",\"tara\",5,6.78,56,7,5}\n",
    "collection.clear()\n",
    "print(collection)"
   ]
  },
  {
   "cell_type": "code",
   "execution_count": 15,
   "id": "45a92a4a",
   "metadata": {},
   "outputs": [
    {
     "name": "stdout",
     "output_type": "stream",
     "text": [
      "{7, 5, 6.78, 'jo', 56, 'tute'}\n"
     ]
    }
   ],
   "source": [
    "# 4. set.pop()\n",
    "\n",
    "# removes a random value\n",
    "\n",
    "collection = {\"tute\",\"jo\",\"tara\",5,6.78,56,7,5}\n",
    "collection.pop()\n",
    "print(collection)"
   ]
  },
  {
   "cell_type": "code",
   "execution_count": 16,
   "id": "9f5c1ca6",
   "metadata": {},
   "outputs": [
    {
     "name": "stdout",
     "output_type": "stream",
     "text": [
      "{1, 2, 3, 4}\n"
     ]
    }
   ],
   "source": [
    "# 5. set.union(set2)\n",
    "\n",
    "# combines both set of values and returns new\n",
    "\n",
    "set1 ={1,2,3}\n",
    "set2 ={2,3,4}\n",
    "print(set1.union(set2))"
   ]
  },
  {
   "cell_type": "code",
   "execution_count": 17,
   "id": "bd6168ab",
   "metadata": {},
   "outputs": [
    {
     "name": "stdout",
     "output_type": "stream",
     "text": [
      "{2, 3}\n"
     ]
    }
   ],
   "source": [
    "# 5. set.inersection(set2)\n",
    "\n",
    "# combines common values and returns new\n",
    "\n",
    "set1 ={1,2,3}\n",
    "set2 ={2,3,4}\n",
    "print(set1.intersection(set2))"
   ]
  },
  {
   "cell_type": "code",
   "execution_count": null,
   "id": "9d6b7694",
   "metadata": {},
   "outputs": [],
   "source": []
  }
 ],
 "metadata": {
  "kernelspec": {
   "display_name": "Python 3 (ipykernel)",
   "language": "python",
   "name": "python3"
  },
  "language_info": {
   "codemirror_mode": {
    "name": "ipython",
    "version": 3
   },
   "file_extension": ".py",
   "mimetype": "text/x-python",
   "name": "python",
   "nbconvert_exporter": "python",
   "pygments_lexer": "ipython3",
   "version": "3.11.4"
  }
 },
 "nbformat": 4,
 "nbformat_minor": 5
}
