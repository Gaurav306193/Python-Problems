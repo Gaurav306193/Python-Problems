{
 "cells": [
  {
   "cell_type": "code",
   "execution_count": 3,
   "id": "d90044cd",
   "metadata": {},
   "outputs": [
    {
     "name": "stdout",
     "output_type": "stream",
     "text": [
      "Enter the name: Gaurav\n",
      "My name is:  Gaurav\n"
     ]
    }
   ],
   "source": [
    "#taking input from user\n",
    "\n",
    "# string does not need to specify the datatype in the input or default is str\n",
    "\n",
    "name = input(\"Enter the name: \")\n",
    "print(\"My name is: \",name)"
   ]
  },
  {
   "cell_type": "code",
   "execution_count": 6,
   "id": "4abd6b67",
   "metadata": {},
   "outputs": [
    {
     "name": "stdout",
     "output_type": "stream",
     "text": [
      "Enter the age : 45\n",
      "My age is 45\n"
     ]
    }
   ],
   "source": [
    "age = int(input(\"Enter the age : \"))\n",
    "print(\"My age is\",age)"
   ]
  },
  {
   "cell_type": "code",
   "execution_count": 7,
   "id": "7656abac",
   "metadata": {},
   "outputs": [
    {
     "name": "stdout",
     "output_type": "stream",
     "text": [
      "34\n",
      "Enter the price45.67\n",
      "the price of 34 is :  45.67\n"
     ]
    }
   ],
   "source": [
    "thing = input()\n",
    "price = float(input(\"Enter the price\"))\n",
    "print(\"the price of\",thing, \"is : \",price)"
   ]
  },
  {
   "cell_type": "code",
   "execution_count": null,
   "id": "d7e644bd",
   "metadata": {},
   "outputs": [],
   "source": []
  }
 ],
 "metadata": {
  "kernelspec": {
   "display_name": "Python 3 (ipykernel)",
   "language": "python",
   "name": "python3"
  },
  "language_info": {
   "codemirror_mode": {
    "name": "ipython",
    "version": 3
   },
   "file_extension": ".py",
   "mimetype": "text/x-python",
   "name": "python",
   "nbconvert_exporter": "python",
   "pygments_lexer": "ipython3",
   "version": "3.11.4"
  }
 },
 "nbformat": 4,
 "nbformat_minor": 5
}
