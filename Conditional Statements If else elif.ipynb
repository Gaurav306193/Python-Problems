{
 "cells": [
  {
   "cell_type": "code",
   "execution_count": 21,
   "id": "3c63ba49",
   "metadata": {},
   "outputs": [
    {
     "name": "stdout",
     "output_type": "stream",
     "text": [
      "Enter the age : 12\n"
     ]
    }
   ],
   "source": [
    "# Conditional Statements contains the conditions , if the condition is true then that statement is executed\n",
    "# if all conditions are false then the else statement is executed\n",
    "\n",
    "\n",
    "# we can use only if statement also\n",
    "age = int(input(\"Enter the age : \"))\n",
    "if(age>=18):\n",
    "    print(\"Person is eligible for driving licence\")\n",
    "    "
   ]
  },
  {
   "cell_type": "code",
   "execution_count": 19,
   "id": "4e420de3",
   "metadata": {},
   "outputs": [
    {
     "name": "stdout",
     "output_type": "stream",
     "text": [
      "Enter the age: 16\n",
      "Person cant vote\n"
     ]
    }
   ],
   "source": [
    "# we can also use if else statement\n",
    "# Voting Program\n",
    "\n",
    "\n",
    "age = int(input(\"Enter the age: \"))\n",
    "if(age>=18):\n",
    "    print(\"Person can vote\")\n",
    "else:\n",
    "    print(\"Person cant vote\")"
   ]
  },
  {
   "cell_type": "code",
   "execution_count": 22,
   "id": "97168aa0",
   "metadata": {},
   "outputs": [
    {
     "name": "stdout",
     "output_type": "stream",
     "text": [
      "Enter the colour of light: red\n",
      "Please stop\n"
     ]
    }
   ],
   "source": [
    "# we can also use if-elif-else\n",
    "# Traffic light program\n",
    "\n",
    "light = input(\"Enter the colour of light: \")\n",
    "\n",
    "if(light==\"red\"):\n",
    "    print(\"Please stop\")\n",
    "elif(light==\"yellow\"):\n",
    "    print(\"Look forward\")\n",
    "elif(light==\"green\"):\n",
    "    print(\"Please go\")\n",
    "else:\n",
    "    print(\"light is broken\")"
   ]
  },
  {
   "cell_type": "code",
   "execution_count": 38,
   "id": "96273405",
   "metadata": {},
   "outputs": [
    {
     "name": "stdout",
     "output_type": "stream",
     "text": [
      "Enter the marks of student: 67\n",
      "Grade D\n"
     ]
    }
   ],
   "source": [
    "# Students grade program\n",
    "\n",
    "marks = int(input(\"Enter the marks of student: \"))\n",
    "\n",
    "if(marks>=90):\n",
    "    print(\"Grade A\")\n",
    "elif(marks>=80 and marks < 90):\n",
    "    print(\"Grade B\")\n",
    "elif(marks>=70 and marks < 80):\n",
    "    print(\"Grade C\")\n",
    "elif(marks>=35 and marks < 70):\n",
    "    print(\"Grade D\")\n",
    "else:\n",
    "    print(\"Fail\")"
   ]
  },
  {
   "cell_type": "code",
   "execution_count": 4,
   "id": "62fa42f7",
   "metadata": {},
   "outputs": [
    {
     "name": "stdout",
     "output_type": "stream",
     "text": [
      "Enter the number: 55\n",
      "the number is odd\n"
     ]
    }
   ],
   "source": [
    "# Odd even program\n",
    "\n",
    "num1 = int(input(\"Enter the number: \"))\n",
    "if(num1%2==0):\n",
    "    print(\"The number is even\")\n",
    "else:\n",
    "    print(\"the number is odd\")"
   ]
  },
  {
   "cell_type": "code",
   "execution_count": 5,
   "id": "4ff9fea1",
   "metadata": {},
   "outputs": [
    {
     "name": "stdout",
     "output_type": "stream",
     "text": [
      "Enter the first number: 45\n",
      "Enter the second number: 46\n",
      "Enter the third number: 43\n",
      "46  is largest number\n"
     ]
    }
   ],
   "source": [
    "# Find the greater number by three numbers\n",
    "\n",
    "a = int(input(\"Enter the first number: \"))\n",
    "b = int(input(\"Enter the second number: \"))\n",
    "c = int(input(\"Enter the third number: \"))\n",
    "\n",
    "if(a>b and a>c):\n",
    "    print(a,\" is largest number\")\n",
    "elif(b>c):\n",
    "    print(b,\" is largest number\")\n",
    "else:\n",
    "    print(c,\" is largest number\")\n",
    "    "
   ]
  },
  {
   "cell_type": "code",
   "execution_count": 6,
   "id": "1beb7c6e",
   "metadata": {},
   "outputs": [
    {
     "name": "stdout",
     "output_type": "stream",
     "text": [
      "Enter the number49\n",
      "The number is multiple of 7\n"
     ]
    }
   ],
   "source": [
    "# check the number is multiple of 7\n",
    "\n",
    "num = int(input(\"Enter the number\"))\n",
    "if(num%7==0):\n",
    "    print(\"The number is multiple of 7\")\n",
    "else:\n",
    "    print(\"The number is not multiple of 7\")"
   ]
  },
  {
   "cell_type": "code",
   "execution_count": 8,
   "id": "f1295dad",
   "metadata": {},
   "outputs": [
    {
     "name": "stdout",
     "output_type": "stream",
     "text": [
      "Enter the rank holder number: 1\n",
      "M/F: M\n",
      "fee is 100\n"
     ]
    }
   ],
   "source": [
    "#Fees program\n",
    "\n",
    "a= int(input(\"Enter the rank holder number: \"))\n",
    "G= input(\"M/F: \")\n",
    "\n",
    "if((a==1 or a==2) and G ==\"M\"):\n",
    "    print(\"fee is 100\")\n",
    "elif(a==3 or a==4 or G==\"F\"):\n",
    "    print(\"fee is 280\")\n",
    "elif(a==5 and G ==\"M\"):\n",
    "    print(\"fee is 389\")\n",
    "else:\n",
    "    print(\"the fee is 1000\")"
   ]
  },
  {
   "cell_type": "code",
   "execution_count": null,
   "id": "d5c54c51",
   "metadata": {},
   "outputs": [],
   "source": []
  }
 ],
 "metadata": {
  "kernelspec": {
   "display_name": "Python 3 (ipykernel)",
   "language": "python",
   "name": "python3"
  },
  "language_info": {
   "codemirror_mode": {
    "name": "ipython",
    "version": 3
   },
   "file_extension": ".py",
   "mimetype": "text/x-python",
   "name": "python",
   "nbconvert_exporter": "python",
   "pygments_lexer": "ipython3",
   "version": "3.11.4"
  }
 },
 "nbformat": 4,
 "nbformat_minor": 5
}
