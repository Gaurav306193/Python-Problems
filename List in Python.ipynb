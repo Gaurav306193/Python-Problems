{
 "cells": [
  {
   "cell_type": "code",
   "execution_count": 2,
   "id": "3aa3a1ca",
   "metadata": {},
   "outputs": [
    {
     "name": "stdout",
     "output_type": "stream",
     "text": [
      "[23.67, 78.89, 56.78, 45.02, 34.56, 67.9]\n",
      "<class 'list'>\n"
     ]
    }
   ],
   "source": [
    "# list is built in datatype that stores set of values\n",
    "# list is mutable\n",
    "marks = [23.67,78.89,56.78,45.02,34.56,67.90]\n",
    "print(marks)\n",
    "print(type(marks))"
   ]
  },
  {
   "cell_type": "code",
   "execution_count": 3,
   "id": "9cb8ce29",
   "metadata": {},
   "outputs": [
    {
     "name": "stdout",
     "output_type": "stream",
     "text": [
      "6\n"
     ]
    }
   ],
   "source": [
    "# to find the length of list\n",
    "\n",
    "marks = [23.67,78.89,56.78,45.02,34.56,67.90]\n",
    "print(len(marks))"
   ]
  },
  {
   "cell_type": "code",
   "execution_count": 4,
   "id": "2aee5575",
   "metadata": {},
   "outputs": [
    {
     "name": "stdout",
     "output_type": "stream",
     "text": [
      "['Gaurav', 21, 'Pune']\n",
      "3\n"
     ]
    }
   ],
   "source": [
    "student = [\"Gaurav\",21,\"Pune\"]\n",
    "print(student)\n",
    "print(len(student))"
   ]
  },
  {
   "cell_type": "code",
   "execution_count": 5,
   "id": "59b93959",
   "metadata": {},
   "outputs": [
    {
     "name": "stdout",
     "output_type": "stream",
     "text": [
      "23.67\n",
      "34.56\n",
      "56.78\n",
      "78.89\n"
     ]
    }
   ],
   "source": [
    "# indexing\n",
    "\n",
    "marks = [23.67,78.89,56.78,45.02,34.56,67.90]\n",
    "print(marks[0])\n",
    "print(marks[4])\n",
    "print(marks[2])\n",
    "print(marks[1])"
   ]
  },
  {
   "cell_type": "code",
   "execution_count": 8,
   "id": "da21d2b5",
   "metadata": {},
   "outputs": [
    {
     "name": "stdout",
     "output_type": "stream",
     "text": [
      "[23.67, 78.89, 56.78, 45.02]\n",
      "[23.67, 78.89, 56.78, 45.02, 34.56]\n",
      "[78.89, 56.78, 45.02, 34.56, 67.9]\n"
     ]
    }
   ],
   "source": [
    "# slicing \n",
    "# same as string \n",
    "\n",
    "marks = [23.67,78.89,56.78,45.02,34.56,67.90]\n",
    "print(marks[0:4])\n",
    "print(marks[:5])\n",
    "print(marks[1:len(marks)])"
   ]
  },
  {
   "cell_type": "code",
   "execution_count": 9,
   "id": "b85a0427",
   "metadata": {},
   "outputs": [
    {
     "name": "stdout",
     "output_type": "stream",
     "text": [
      "Enter the first movie: yjhd\n",
      "Enter the second movie: tjmm\n",
      "Enter the third movie: tamasha\n",
      "['yjhd', 'tjmm', 'tamasha']\n"
     ]
    }
   ],
   "source": [
    "# Program\n",
    "\n",
    "# Ask to user enter the names of their fav 3 movies and store them in list\n",
    "\n",
    "movies = []\n",
    "\n",
    "movie1= input(\"Enter the first movie: \")\n",
    "movie2= input(\"Enter the second movie: \")\n",
    "movie3= input(\"Enter the third movie: \")\n",
    "\n",
    "movies.append(movie1)\n",
    "movies.append(movie2)\n",
    "movies.append(movie3)\n",
    "\n",
    "print(movies)"
   ]
  },
  {
   "cell_type": "code",
   "execution_count": 10,
   "id": "5f6ff977",
   "metadata": {},
   "outputs": [
    {
     "name": "stdout",
     "output_type": "stream",
     "text": [
      "Palindrome\n"
     ]
    }
   ],
   "source": [
    "# Program \n",
    "# Check if a list contains the palindrome no. or not \n",
    "# hint : use copy method\n",
    "\n",
    "list =[1,2,1]\n",
    "\n",
    "copy_list=list.copy()\n",
    "copy_list.reverse()\n",
    "\n",
    "if(copy_list == list):\n",
    "    print(\"Palindrome\")\n",
    "else:\n",
    "    print(\"NOT palindrome\")\n"
   ]
  },
  {
   "cell_type": "code",
   "execution_count": null,
   "id": "3b28b5e4",
   "metadata": {},
   "outputs": [],
   "source": []
  }
 ],
 "metadata": {
  "kernelspec": {
   "display_name": "Python 3 (ipykernel)",
   "language": "python",
   "name": "python3"
  },
  "language_info": {
   "codemirror_mode": {
    "name": "ipython",
    "version": 3
   },
   "file_extension": ".py",
   "mimetype": "text/x-python",
   "name": "python",
   "nbconvert_exporter": "python",
   "pygments_lexer": "ipython3",
   "version": "3.11.4"
  }
 },
 "nbformat": 4,
 "nbformat_minor": 5
}
