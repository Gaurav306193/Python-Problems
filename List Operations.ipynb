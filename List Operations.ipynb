{
 "cells": [
  {
   "cell_type": "code",
   "execution_count": 4,
   "id": "4246e270",
   "metadata": {},
   "outputs": [
    {
     "name": "stdout",
     "output_type": "stream",
     "text": [
      "[1, 2, 3, 5, 6, 4]\n"
     ]
    }
   ],
   "source": [
    "# 1. List.append(): add one element at the end\n",
    "\n",
    "list = [1,2,3,5,6]\n",
    "list.append(4)\n",
    "print(list)"
   ]
  },
  {
   "cell_type": "code",
   "execution_count": 5,
   "id": "28423b87",
   "metadata": {},
   "outputs": [
    {
     "name": "stdout",
     "output_type": "stream",
     "text": [
      "[1, 2, 3, 4, 5, 6]\n"
     ]
    }
   ],
   "source": [
    "# 2. list.sort() : sorts in ascending order\n",
    "\n",
    "list = [1,6,3,5,4,2]\n",
    "list.sort()\n",
    "print(list)"
   ]
  },
  {
   "cell_type": "code",
   "execution_count": 6,
   "id": "a17037f5",
   "metadata": {},
   "outputs": [
    {
     "name": "stdout",
     "output_type": "stream",
     "text": [
      "[6, 5, 4, 3, 2, 1]\n"
     ]
    }
   ],
   "source": [
    "# 3. list.sort(reverse= True) : sorts in decending order\n",
    "\n",
    "list = [1,6,3,5,4,2]\n",
    "list.sort(reverse= True)\n",
    "print(list)"
   ]
  },
  {
   "cell_type": "code",
   "execution_count": 7,
   "id": "cbb814c6",
   "metadata": {},
   "outputs": [
    {
     "name": "stdout",
     "output_type": "stream",
     "text": [
      "['a', 'b', 'e', 'c']\n"
     ]
    }
   ],
   "source": [
    "# 4. list.reverse() : reverses list\n",
    "\n",
    "list = ['c','e','b','a']\n",
    "list.reverse()\n",
    "print(list)"
   ]
  },
  {
   "cell_type": "code",
   "execution_count": 8,
   "id": "8533838f",
   "metadata": {},
   "outputs": [
    {
     "name": "stdout",
     "output_type": "stream",
     "text": [
      "[1, 6, 8, 3, 5, 4, 2]\n"
     ]
    }
   ],
   "source": [
    "# 5. list.insert(index,element) : insert element at any index\n",
    "\n",
    "list = [1,6,3,5,4,2]\n",
    "list.insert(2,8)\n",
    "print(list)"
   ]
  },
  {
   "cell_type": "code",
   "execution_count": 9,
   "id": "02a80387",
   "metadata": {},
   "outputs": [
    {
     "name": "stdout",
     "output_type": "stream",
     "text": [
      "[1, 6, 5, 4, 2]\n"
     ]
    }
   ],
   "source": [
    "#6. list.remove() remove first occurence\n",
    "\n",
    "# 7. list.pop(index) : remove element at any index\n",
    "\n",
    "list = [1,6,3,5,4,2]\n",
    "list.pop(2)\n",
    "print(list)"
   ]
  },
  {
   "cell_type": "code",
   "execution_count": null,
   "id": "287c1cf0",
   "metadata": {},
   "outputs": [],
   "source": []
  }
 ],
 "metadata": {
  "kernelspec": {
   "display_name": "Python 3 (ipykernel)",
   "language": "python",
   "name": "python3"
  },
  "language_info": {
   "codemirror_mode": {
    "name": "ipython",
    "version": 3
   },
   "file_extension": ".py",
   "mimetype": "text/x-python",
   "name": "python",
   "nbconvert_exporter": "python",
   "pygments_lexer": "ipython3",
   "version": "3.11.4"
  }
 },
 "nbformat": 4,
 "nbformat_minor": 5
}
