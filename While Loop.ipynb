{
 "cells": [
  {
   "cell_type": "code",
   "execution_count": 3,
   "id": "e26d1163",
   "metadata": {},
   "outputs": [
    {
     "name": "stdout",
     "output_type": "stream",
     "text": [
      "The numbers :\n",
      "0\n",
      "1\n",
      "2\n",
      "3\n",
      "4\n",
      "5\n"
     ]
    }
   ],
   "source": [
    "# While loops are used to repeat instructions\n",
    "\n",
    "# to print the numbers\n",
    "\n",
    "i=0\n",
    "print(\"The numbers :\")\n",
    "while i<=5:\n",
    "    print(i)\n",
    "    i+=1"
   ]
  },
  {
   "cell_type": "code",
   "execution_count": 6,
   "id": "33fdd2bc",
   "metadata": {},
   "outputs": [
    {
     "name": "stdout",
     "output_type": "stream",
     "text": [
      "Enter the number : 12\n",
      "0\n",
      "1\n",
      "2\n",
      "3\n",
      "4\n",
      "5\n",
      "6\n",
      "7\n",
      "8\n",
      "9\n",
      "10\n",
      "11\n",
      "12\n"
     ]
    }
   ],
   "source": [
    "# to print the numbers untill users say\n",
    "i=0\n",
    "n = int(input(\"Enter the number : \"))\n",
    "while i<=n:\n",
    "    print(i)\n",
    "    i+=1"
   ]
  },
  {
   "cell_type": "code",
   "execution_count": 7,
   "id": "c3f53f25",
   "metadata": {},
   "outputs": [
    {
     "name": "stdout",
     "output_type": "stream",
     "text": [
      "10\n",
      "9\n",
      "8\n",
      "7\n",
      "6\n",
      "5\n",
      "4\n",
      "3\n",
      "2\n",
      "1\n"
     ]
    }
   ],
   "source": [
    "# print the number from 10 to 1\n",
    "\n",
    "i = 10\n",
    "while i>=1:\n",
    "    print(i)\n",
    "    i-=1"
   ]
  },
  {
   "cell_type": "code",
   "execution_count": 8,
   "id": "98180fcc",
   "metadata": {},
   "outputs": [
    {
     "name": "stdout",
     "output_type": "stream",
     "text": [
      "3\n",
      "6\n",
      "9\n",
      "12\n",
      "15\n",
      "18\n",
      "21\n",
      "24\n",
      "27\n",
      "30\n"
     ]
    }
   ],
   "source": [
    "# print the multiplication table of a number 3\n",
    "\n",
    "i=1\n",
    "while i<=10:\n",
    "    print(3*i)\n",
    "    i+=1"
   ]
  },
  {
   "cell_type": "code",
   "execution_count": 9,
   "id": "58e886c5",
   "metadata": {},
   "outputs": [
    {
     "name": "stdout",
     "output_type": "stream",
     "text": [
      "Enter the number: 56\n",
      "56\n",
      "112\n",
      "168\n",
      "224\n",
      "280\n",
      "336\n",
      "392\n",
      "448\n",
      "504\n",
      "560\n"
     ]
    }
   ],
   "source": [
    "# print the multiplication table of a number n\n",
    "n= int(input(\"Enter the number: \"))\n",
    "i=1\n",
    "while i<=10:\n",
    "    print(n*i)\n",
    "    i+=1"
   ]
  },
  {
   "cell_type": "code",
   "execution_count": 11,
   "id": "58512c36",
   "metadata": {},
   "outputs": [
    {
     "name": "stdout",
     "output_type": "stream",
     "text": [
      "1\n",
      "3\n",
      "5\n",
      "6\n",
      "73\n",
      "5\n"
     ]
    }
   ],
   "source": [
    "# print the elements of the list\n",
    "\n",
    "num = [1,3,5,6,73,5]\n",
    "index=0\n",
    "while index<len(num):\n",
    "    print(num[index])\n",
    "    index+=1"
   ]
  },
  {
   "cell_type": "code",
   "execution_count": 17,
   "id": "ddc2e986",
   "metadata": {},
   "outputs": [
    {
     "name": "stdout",
     "output_type": "stream",
     "text": [
      "1\n",
      "Gaurav\n",
      "5\n",
      "bhoi\n",
      "73\n",
      "5\n"
     ]
    }
   ],
   "source": [
    "# print the elements of the list\n",
    "\n",
    "num = [1,\"Gaurav\",5,\"bhoi\",73,5]\n",
    "index=0\n",
    "while index<len(num):\n",
    "    print(num[index])\n",
    "    index+=1"
   ]
  },
  {
   "cell_type": "code",
   "execution_count": 12,
   "id": "d8828afb",
   "metadata": {},
   "outputs": [
    {
     "name": "stdout",
     "output_type": "stream",
     "text": [
      "FOUND at  2\n"
     ]
    }
   ],
   "source": [
    "# search the number x in tuple\n",
    "\n",
    "num = (34,57,45,34,78,90)\n",
    "x= 45\n",
    "i=0\n",
    "while i < len(num):\n",
    "    if(num[i]==x):\n",
    "        print(\"FOUND at \",i)\n",
    "    i+=1"
   ]
  },
  {
   "cell_type": "code",
   "execution_count": 14,
   "id": "6c076dfc",
   "metadata": {},
   "outputs": [
    {
     "name": "stdout",
     "output_type": "stream",
     "text": [
      "FOUND at  1\n"
     ]
    }
   ],
   "source": [
    "# Break Statement is used  for terminate the loop \n",
    "\n",
    "num = (34,45,57,45,34,78,90)\n",
    "x= 45\n",
    "i=0\n",
    "while i < len(num):\n",
    "    if(num[i]==x):\n",
    "        print(\"FOUND at \",i)\n",
    "        break\n",
    "    i+=1"
   ]
  },
  {
   "cell_type": "code",
   "execution_count": 15,
   "id": "bdb7a754",
   "metadata": {},
   "outputs": [
    {
     "name": "stdout",
     "output_type": "stream",
     "text": [
      "1\n",
      "2\n",
      "3\n"
     ]
    }
   ],
   "source": [
    "# Break statement\n",
    "\n",
    "i=1\n",
    "while i<=5:\n",
    "    print(i)\n",
    "    if(i==3):\n",
    "        break\n",
    "    i+=1"
   ]
  },
  {
   "cell_type": "code",
   "execution_count": 16,
   "id": "22137b97",
   "metadata": {},
   "outputs": [
    {
     "name": "stdout",
     "output_type": "stream",
     "text": [
      "0\n",
      "1\n",
      "2\n",
      "4\n",
      "5\n"
     ]
    }
   ],
   "source": [
    "# Continue statements used for terminate current execution and executes next execution\n",
    "\n",
    "i=0\n",
    "while i<=5:\n",
    "    if(i==3):\n",
    "        i+=1\n",
    "        continue\n",
    "    print(i)\n",
    "    i+=1"
   ]
  },
  {
   "cell_type": "code",
   "execution_count": 18,
   "id": "fad2cca4",
   "metadata": {},
   "outputs": [
    {
     "name": "stdout",
     "output_type": "stream",
     "text": [
      "Enter the number: 2\n",
      "Total sum  3\n"
     ]
    }
   ],
   "source": [
    "# Find the sum of n numbers\n",
    "\n",
    "n = int(input(\"Enter the number: \"))\n",
    "sum=0\n",
    "\n",
    "i=1\n",
    "\n",
    "while i<=n:\n",
    "    sum+=i\n",
    "    i+=1\n",
    "print(\"Total sum \",sum)"
   ]
  },
  {
   "cell_type": "code",
   "execution_count": 20,
   "id": "931f30a6",
   "metadata": {},
   "outputs": [
    {
     "name": "stdout",
     "output_type": "stream",
     "text": [
      "Enter the number: 2\n",
      "Factorial:  2\n"
     ]
    }
   ],
   "source": [
    "# Factorial Program\n",
    "\n",
    "n = int(input(\"Enter the number: \"))\n",
    "fact=1\n",
    "\n",
    "i=1\n",
    "\n",
    "while i<=n:\n",
    "    fact*=i\n",
    "    i+=1\n",
    "print(\"Factorial: \",fact)"
   ]
  },
  {
   "cell_type": "code",
   "execution_count": null,
   "id": "93261dd9",
   "metadata": {},
   "outputs": [],
   "source": []
  }
 ],
 "metadata": {
  "kernelspec": {
   "display_name": "Python 3 (ipykernel)",
   "language": "python",
   "name": "python3"
  },
  "language_info": {
   "codemirror_mode": {
    "name": "ipython",
    "version": 3
   },
   "file_extension": ".py",
   "mimetype": "text/x-python",
   "name": "python",
   "nbconvert_exporter": "python",
   "pygments_lexer": "ipython3",
   "version": "3.11.4"
  }
 },
 "nbformat": 4,
 "nbformat_minor": 5
}
