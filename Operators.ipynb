{
 "cells": [
  {
   "cell_type": "code",
   "execution_count": 3,
   "id": "ba23b55d",
   "metadata": {},
   "outputs": [
    {
     "name": "stdout",
     "output_type": "stream",
     "text": [
      "Enter the number: 2\n",
      "Enter the number: 2\n",
      "The sum is:  4\n",
      "The subtraction is:  0\n",
      "The multipcation is:  4\n",
      "The division is:  1.0\n",
      "The modulo is:  0\n",
      "The floor division is:  1\n",
      "The Power a to b is:  4\n"
     ]
    }
   ],
   "source": [
    "# Type 1 : Arithmetic Operators :- +,-,*,/,%,//,**\n",
    "\n",
    "a = int(input(\"Enter the number: \"))\n",
    "b = int(input(\"Enter the number: \"))\n",
    "\n",
    "print(\"The sum is: \",a+b)\n",
    "print(\"The subtraction is: \",a-b)\n",
    "print(\"The multipcation is: \",a*b)\n",
    "print(\"The division is: \",a/b)\n",
    "print(\"The modulo is: \",a%b)\n",
    "print(\"The floor division is: \",a//b)\n",
    "print(\"The Power a to b is: \",a**b)"
   ]
  },
  {
   "cell_type": "code",
   "execution_count": 7,
   "id": "41e3f5d7",
   "metadata": {},
   "outputs": [
    {
     "name": "stdout",
     "output_type": "stream",
     "text": [
      "Enter the first number: 3\n",
      "Enter the second number: 3\n",
      "-1\n",
      "6\n"
     ]
    }
   ],
   "source": [
    "# Type 2 : Assignment Operators :- =,-=,+=,/=,*=,//=,**=,%=\n",
    "\n",
    "num1 = int(input(\"Enter the first number: \"))\n",
    "num2 = int(input(\"Enter the second number: \"))\n",
    "\n",
    "num1 -= 4\n",
    "print(num1)\n",
    "\n",
    "num2 += 3\n",
    "print(num2)"
   ]
  },
  {
   "cell_type": "code",
   "execution_count": 8,
   "id": "ec203e8b",
   "metadata": {},
   "outputs": [
    {
     "name": "stdout",
     "output_type": "stream",
     "text": [
      "Enter the first number: 3\n",
      "Enter the second number: 3\n",
      "True\n",
      "False\n",
      "False\n",
      "True\n",
      "False\n",
      "True\n"
     ]
    }
   ],
   "source": [
    "# Type 3: Comparison operators :- == , != (not equal), < , > , <= , >=\n",
    "# It returns either true or false as a result\n",
    "\n",
    "c = int(input(\"Enter the first number: \"))\n",
    "d = int(input(\"Enter the second number: \"))\n",
    "\n",
    "print(c==d)\n",
    "print(c!=d)\n",
    "print(c>d)\n",
    "print(c>=d)\n",
    "print(c<d)\n",
    "print(c<=d)"
   ]
  },
  {
   "cell_type": "code",
   "execution_count": 10,
   "id": "bbf23d81",
   "metadata": {},
   "outputs": [
    {
     "name": "stdout",
     "output_type": "stream",
     "text": [
      "Enter the value of a: 45\n",
      "Enter the value of b: 56\n",
      "False\n",
      "True\n"
     ]
    }
   ],
   "source": [
    "# Type 4 : Logical Operators are :- and , or , not\n",
    "\n",
    "a = int(input(\"Enter the value of a: \"))\n",
    "b = int(input(\"Enter the value of b: \"))\n",
    "print(a==b and a!=b)\n",
    "print(a==b or a!=b)"
   ]
  },
  {
   "cell_type": "code",
   "execution_count": 24,
   "id": "27d723ef",
   "metadata": {},
   "outputs": [
    {
     "name": "stdout",
     "output_type": "stream",
     "text": [
      "True\n",
      "False\n",
      "True\n",
      "True\n",
      "False\n",
      "False\n",
      "False\n",
      "True\n"
     ]
    }
   ],
   "source": [
    "a = True\n",
    "b = True\n",
    "c = False\n",
    "d = False\n",
    "\n",
    "print(a and b)\n",
    "print(a and c)\n",
    "print(a or b)\n",
    "print(a or c)\n",
    "print(c or d)\n",
    "print(c and d)\n",
    "print(not a)\n",
    "print(not c)"
   ]
  },
  {
   "cell_type": "code",
   "execution_count": 26,
   "id": "23e94ab7",
   "metadata": {},
   "outputs": [
    {
     "name": "stdout",
     "output_type": "stream",
     "text": [
      "True\n",
      "True\n",
      "False\n"
     ]
    }
   ],
   "source": [
    "# Type 5 : Membership Operators :- in , not in\n",
    "\n",
    "name = [\"gaurav\",\"prashik\"]\n",
    "print(\"gaurav\" in name )\n",
    "gaurav\n",
    "# Type 5 : Membership Operators :- in , not in\n",
    "​\n",
    "name = [\"gaurav\",\"prashik\"]\n",
    "print(\"gaurav\" in name )\n",
    "​\n",
    "print(\"suraj\" not in name)\n",
    "print(\"gaurav\" not in name)\n",
    "True\n",
    "True\n",
    "False\n",
    "​\n",
    "\n",
    "print(\"suraj\" not in name)\n",
    "print(\"gaurav\" not in name)"
   ]
  },
  {
   "cell_type": "code",
   "execution_count": null,
   "id": "24330a3a",
   "metadata": {},
   "outputs": [],
   "source": [
    "# Type 6 : Identity Operators and Type 7 : Bitwise operators are not used mostly"
   ]
  },
  {
   "cell_type": "code",
   "execution_count": 28,
   "id": "df8cf650",
   "metadata": {},
   "outputs": [
    {
     "name": "stdout",
     "output_type": "stream",
     "text": [
      "True\n"
     ]
    }
   ],
   "source": [
    "# Consider given expression\n",
    "\n",
    "print(not True and False or True)\n",
    "\n",
    "\n",
    "# first we solve not  True which gives us False\n",
    "# then we solve False and False which gives us\n",
    "# False because logical and returns true if both values are true otherwise False\n",
    "# then we solve False or True which gives us True.\n",
    "\n"
   ]
  },
  {
   "cell_type": "code",
   "execution_count": null,
   "id": "23f9caf2",
   "metadata": {},
   "outputs": [],
   "source": []
  }
 ],
 "metadata": {
  "kernelspec": {
   "display_name": "Python 3 (ipykernel)",
   "language": "python",
   "name": "python3"
  },
  "language_info": {
   "codemirror_mode": {
    "name": "ipython",
    "version": 3
   },
   "file_extension": ".py",
   "mimetype": "text/x-python",
   "name": "python",
   "nbconvert_exporter": "python",
   "pygments_lexer": "ipython3",
   "version": "3.11.4"
  }
 },
 "nbformat": 4,
 "nbformat_minor": 5
}
