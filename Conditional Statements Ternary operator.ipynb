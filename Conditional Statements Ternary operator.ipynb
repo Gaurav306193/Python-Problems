{
 "cells": [
  {
   "cell_type": "code",
   "execution_count": 2,
   "id": "ba6f50d8",
   "metadata": {},
   "outputs": [
    {
     "name": "stdout",
     "output_type": "stream",
     "text": [
      "Enter the food: cake\n",
      "Yes\n"
     ]
    }
   ],
   "source": [
    "# Ternary Operator\n",
    "# single line if\n",
    "\n",
    "food = input(\"Enter the food: \")\n",
    "eat = \"Yes\" if food==\"cake\" else \"no\"\n",
    "print(eat)"
   ]
  },
  {
   "cell_type": "code",
   "execution_count": 4,
   "id": "8a64e74f",
   "metadata": {},
   "outputs": [
    {
     "name": "stdout",
     "output_type": "stream",
     "text": [
      "Enter the food: jalebi\n",
      "I want sweet\n"
     ]
    }
   ],
   "source": [
    "# with statements\n",
    "\n",
    "food = input(\"Enter the food: \")\n",
    "print(\"I want sweet\") if food==\"jalebi\" else print(\"I dont want sweet\")"
   ]
  },
  {
   "cell_type": "code",
   "execution_count": 6,
   "id": "e49722e9",
   "metadata": {},
   "outputs": [
    {
     "name": "stdout",
     "output_type": "stream",
     "text": [
      "Enter the age: 45\n",
      "yes\n"
     ]
    }
   ],
   "source": [
    "# clever if\n",
    "\n",
    "age = int(input(\"Enter the age: \"))\n",
    "vote= (\"yes\",\"no\") [age<=18]\n",
    "print(vote)"
   ]
  },
  {
   "cell_type": "code",
   "execution_count": 8,
   "id": "44171c33",
   "metadata": {},
   "outputs": [
    {
     "name": "stdout",
     "output_type": "stream",
     "text": [
      "Enter the salary: 2000\n",
      "400.0\n"
     ]
    }
   ],
   "source": [
    "salary = int(input(\"Enter the salary: \"))\n",
    "tax = salary*(0.1,0.2) [salary<=5000]\n",
    "print(tax)"
   ]
  },
  {
   "cell_type": "code",
   "execution_count": null,
   "id": "c30c8b3a",
   "metadata": {},
   "outputs": [],
   "source": []
  }
 ],
 "metadata": {
  "kernelspec": {
   "display_name": "Python 3 (ipykernel)",
   "language": "python",
   "name": "python3"
  },
  "language_info": {
   "codemirror_mode": {
    "name": "ipython",
    "version": 3
   },
   "file_extension": ".py",
   "mimetype": "text/x-python",
   "name": "python",
   "nbconvert_exporter": "python",
   "pygments_lexer": "ipython3",
   "version": "3.11.4"
  }
 },
 "nbformat": 4,
 "nbformat_minor": 5
}
