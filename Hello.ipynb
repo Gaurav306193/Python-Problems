{
 "cells": [
  {
   "cell_type": "code",
   "execution_count": 1,
   "id": "fdc51568",
   "metadata": {},
   "outputs": [
    {
     "name": "stdout",
     "output_type": "stream",
     "text": [
      "Hello World\n"
     ]
    }
   ],
   "source": [
    "# First Program\n",
    "\n",
    "print(\"Hello World\")"
   ]
  },
  {
   "cell_type": "code",
   "execution_count": 2,
   "id": "b42be975",
   "metadata": {},
   "outputs": [
    {
     "name": "stdout",
     "output_type": "stream",
     "text": [
      "Gaurav Bhoi\n"
     ]
    }
   ],
   "source": [
    "print(\"Gaurav Bhoi\")"
   ]
  },
  {
   "cell_type": "code",
   "execution_count": 5,
   "id": "3288c216",
   "metadata": {},
   "outputs": [
    {
     "name": "stdout",
     "output_type": "stream",
     "text": [
      "8\n",
      "The Sum is : 8\n",
      "The subtraction is ; -2\n"
     ]
    }
   ],
   "source": [
    "# we can also perform mathematical operations\n",
    "# we can print the various operations like +,-,*and/\n",
    "\n",
    "print(3+5)\n",
    "print(\"The Sum is :\",3+5)\n",
    "print(\"The subtraction is ;\",3-5)"
   ]
  },
  {
   "cell_type": "code",
   "execution_count": 6,
   "id": "aadbb090",
   "metadata": {},
   "outputs": [
    {
     "name": "stdout",
     "output_type": "stream",
     "text": [
      "34\n"
     ]
    }
   ],
   "source": [
    "# we can print the numbers too\n",
    "\n",
    "print(34)"
   ]
  },
  {
   "cell_type": "code",
   "execution_count": 7,
   "id": "6e04f66e",
   "metadata": {},
   "outputs": [
    {
     "name": "stdout",
     "output_type": "stream",
     "text": [
      "Gaurav Bhoi\n"
     ]
    }
   ],
   "source": [
    "# we can print the different words on same print statement just include the comma \n",
    "print(\"Gaurav\",\"Bhoi\")"
   ]
  },
  {
   "cell_type": "code",
   "execution_count": 8,
   "id": "18e16d7c",
   "metadata": {},
   "outputs": [
    {
     "name": "stdout",
     "output_type": "stream",
     "text": [
      "T am Gaurav Bhoi From Nandurbar Maharashtra\n"
     ]
    }
   ],
   "source": [
    "print(\"T am Gaurav Bhoi\",\"From Nandurbar Maharashtra\")"
   ]
  },
  {
   "cell_type": "code",
   "execution_count": null,
   "id": "49aa0d31",
   "metadata": {},
   "outputs": [],
   "source": []
  }
 ],
 "metadata": {
  "kernelspec": {
   "display_name": "Python 3 (ipykernel)",
   "language": "python",
   "name": "python3"
  },
  "language_info": {
   "codemirror_mode": {
    "name": "ipython",
    "version": 3
   },
   "file_extension": ".py",
   "mimetype": "text/x-python",
   "name": "python",
   "nbconvert_exporter": "python",
   "pygments_lexer": "ipython3",
   "version": "3.11.4"
  }
 },
 "nbformat": 4,
 "nbformat_minor": 5
}
