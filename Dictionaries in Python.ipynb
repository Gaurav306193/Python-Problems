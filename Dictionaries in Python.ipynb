{
 "cells": [
  {
   "cell_type": "code",
   "execution_count": 5,
   "id": "52824990",
   "metadata": {},
   "outputs": [
    {
     "name": "stdout",
     "output_type": "stream",
     "text": [
      "{'name': 'Gaurav', 'age': 21, 'marks': 45.67}\n"
     ]
    }
   ],
   "source": [
    "# Dictinary is an key : value pair user built in datatype which is used for stored data\n",
    "# unordered\n",
    "# mutable\n",
    "# does not allow duplicates\n",
    "\n",
    "\n",
    "dict = {\n",
    "    \"name\": \"Gaurav\",\n",
    "    \"age\": 21,\n",
    "    \"marks\": 45.67\n",
    "}\n",
    "\n",
    "print(dict)"
   ]
  },
  {
   "cell_type": "code",
   "execution_count": 6,
   "id": "66dff8d5",
   "metadata": {},
   "outputs": [
    {
     "name": "stdout",
     "output_type": "stream",
     "text": [
      "{'name': 'Gaurav', 'age': 21, 'marks': 45.67, 'scores': [56, 78, 45], 'subjects': ('physics', 'chemistry', 'math')}\n"
     ]
    }
   ],
   "source": [
    "# we can also use list and tuples in dictionary\n",
    "\n",
    "dict = {\n",
    "    \"name\": \"Gaurav\",\n",
    "    \"age\": 21,\n",
    "    \"marks\": 45.67,\n",
    "    \"scores\": [56,78,45],\n",
    "    \"subjects\": (\"physics\",\"chemistry\",\"math\")\n",
    "}\n",
    "\n",
    "print(dict)"
   ]
  },
  {
   "cell_type": "code",
   "execution_count": 7,
   "id": "e489cc8a",
   "metadata": {},
   "outputs": [
    {
     "name": "stdout",
     "output_type": "stream",
     "text": [
      "Gaurav\n",
      "21\n",
      "45.67\n"
     ]
    }
   ],
   "source": [
    "# we can not use indexing to access elements\n",
    "# we can access the elements using their keys.\n",
    "\n",
    "dict = {\n",
    "    \"name\": \"Gaurav\",\n",
    "    \"age\": 21,\n",
    "    \"marks\": 45.67\n",
    "}\n",
    "print(dict[\"name\"])\n",
    "print(dict[\"age\"])\n",
    "print(dict[\"marks\"])"
   ]
  },
  {
   "cell_type": "code",
   "execution_count": 9,
   "id": "02477368",
   "metadata": {},
   "outputs": [
    {
     "name": "stdout",
     "output_type": "stream",
     "text": [
      "{'name': 'Gaurav', 'age': 21, 'marks': 45.67, 'scores': [56, 78, 45], 'subjects': ('physics', 'chemistry', 'math')}\n",
      "{'name': 'Prashik', 'age': 21, 'marks': 45.67, 'scores': [56, 78, 45], 'subjects': ('physics', 'chemistry', 'math')}\n"
     ]
    }
   ],
   "source": [
    "# Dictionary is mutable we can change the values\n",
    "# if key is already present then it overwrites the value\n",
    "\n",
    "dict = {\n",
    "    \"name\": \"Gaurav\",\n",
    "    \"age\": 21,\n",
    "    \"marks\": 45.67,\n",
    "    \"scores\": [56,78,45],\n",
    "    \"subjects\": (\"physics\",\"chemistry\",\"math\")\n",
    "}\n",
    "\n",
    "print(dict)\n",
    "dict[\"name\"]=\"Prashik\"\n",
    "print(dict)"
   ]
  },
  {
   "cell_type": "code",
   "execution_count": 11,
   "id": "7ba20e5b",
   "metadata": {},
   "outputs": [
    {
     "name": "stdout",
     "output_type": "stream",
     "text": [
      "{}\n",
      "<class 'dict'>\n"
     ]
    }
   ],
   "source": [
    "# null dictinary\n",
    "\n",
    "null_dict={}\n",
    "print(null_dict)\n",
    "print(type(null_dict))"
   ]
  },
  {
   "cell_type": "code",
   "execution_count": 12,
   "id": "ff76b16c",
   "metadata": {},
   "outputs": [
    {
     "name": "stdout",
     "output_type": "stream",
     "text": [
      "{'name': 'Zeal', 'age': 34, 'scores': 8}\n"
     ]
    }
   ],
   "source": [
    "# we can also add the elements in the null dictinary\n",
    "\n",
    "null_dict={}\n",
    "null_dict[\"name\"]=\"Zeal\"\n",
    "null_dict[\"age\"]= 34\n",
    "null_dict[\"scores\"]= 8\n",
    "print(null_dict)"
   ]
  },
  {
   "cell_type": "code",
   "execution_count": 15,
   "id": "c3340a1b",
   "metadata": {},
   "outputs": [
    {
     "name": "stdout",
     "output_type": "stream",
     "text": [
      "{'name': 'Gaurav', 'Subjects': {'chemistry': 67, 'math': 78, 'physics': 93}}\n",
      "{'chemistry': 67, 'math': 78, 'physics': 93}\n",
      "93\n"
     ]
    }
   ],
   "source": [
    "# Nested Dicttionary\n",
    "\n",
    "student = {\n",
    "    \"name\" : \"Gaurav\",\n",
    "    \"Subjects\":{\n",
    "        \"chemistry\":67,\n",
    "        \"math\":78,\n",
    "        \"physics\":93\n",
    "    }\n",
    "}\n",
    "\n",
    "print(student)\n",
    "print(student[\"Subjects\"])\n",
    "print(student[\"Subjects\"][\"physics\"])"
   ]
  },
  {
   "cell_type": "code",
   "execution_count": 16,
   "id": "a2b78c13",
   "metadata": {},
   "outputs": [
    {
     "name": "stdout",
     "output_type": "stream",
     "text": [
      "Enter the marks of physics: 45\n",
      "Enter the marks of chemistry: 56\n",
      "Enter the marks of math: 45\n",
      "{'physics': 45, 'chemistry': 56, 'math': 45}\n"
     ]
    }
   ],
   "source": [
    "# user input dictinary\n",
    "\n",
    "marks= {}\n",
    "\n",
    "x = int(input(\"Enter the marks of physics: \",))\n",
    "marks.update({\"physics\":x})\n",
    "\n",
    "x = int(input(\"Enter the marks of chemistry: \",))\n",
    "marks.update({\"chemistry\":x})\n",
    "\n",
    "x = int(input(\"Enter the marks of math: \",))\n",
    "marks.update({\"math\":x})\n",
    "\n",
    "print(marks)"
   ]
  },
  {
   "cell_type": "code",
   "execution_count": null,
   "id": "425129dd",
   "metadata": {},
   "outputs": [],
   "source": []
  }
 ],
 "metadata": {
  "kernelspec": {
   "display_name": "Python 3 (ipykernel)",
   "language": "python",
   "name": "python3"
  },
  "language_info": {
   "codemirror_mode": {
    "name": "ipython",
    "version": 3
   },
   "file_extension": ".py",
   "mimetype": "text/x-python",
   "name": "python",
   "nbconvert_exporter": "python",
   "pygments_lexer": "ipython3",
   "version": "3.11.4"
  }
 },
 "nbformat": 4,
 "nbformat_minor": 5
}
